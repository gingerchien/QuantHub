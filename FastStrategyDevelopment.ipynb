{
  "nbformat": 4,
  "nbformat_minor": 0,
  "metadata": {
    "colab": {
      "provenance": [],
      "authorship_tag": "ABX9TyNqtKJcAwlsLpKIA6knnj2O",
      "include_colab_link": true
    },
    "kernelspec": {
      "name": "python3",
      "display_name": "Python 3"
    },
    "language_info": {
      "name": "python"
    }
  },
  "cells": [
    {
      "cell_type": "markdown",
      "metadata": {
        "id": "view-in-github",
        "colab_type": "text"
      },
      "source": [
        "<a href=\"https://colab.research.google.com/github/gingerchien/QuantHub/blob/main/FastStrategyDevelopment.ipynb\" target=\"_parent\"><img src=\"https://colab.research.google.com/assets/colab-badge.svg\" alt=\"Open In Colab\"/></a>"
      ]
    },
    {
      "cell_type": "code",
      "execution_count": null,
      "metadata": {
        "id": "vEl5FXtbX3P7"
      },
      "outputs": [],
      "source": []
    },
    {
      "cell_type": "markdown",
      "source": [
        "Standard process for creating alpha-based strategies is likely in the following sequence:\n",
        "\n",
        "Grab Data -> Develop Formula -> Make Prediction -> Portfolio Optimization -> Execution\n",
        "\n",
        "A way to make this faster is replacing Make Prediction and Portofolio Optimization with Ranked Long/Short (RLS).\n",
        "\n",
        "How?\n",
        "Ranked Long Short involves taking assets, ranking them on the alpha, then longing the top xx% and shorting the bottom xx%.\n",
        "\n",
        "(Alpha is the formula/rule, it's called alpha because it is 95% of where your alpha/edge, profit and loss comes from)\n",
        "\n",
        "Traditionally, you would take your alpha and feed it into an ML model to spit out a prediction of the expected return for different assets. You also want to predict volatility (or just use historical values). Once you have the expected value and volatility, you feed this into your portfolio optimization model. (R and Python has library for optimization or just read up on a convex optimization book to create a custom optimizer).\n",
        "\n",
        "\n",
        "\n",
        "\n"
      ],
      "metadata": {
        "id": "-6fKABeaYIWE"
      }
    },
    {
      "cell_type": "markdown",
      "source": [],
      "metadata": {
        "id": "_HM0ukJfYIZV"
      }
    },
    {
      "cell_type": "markdown",
      "source": [],
      "metadata": {
        "id": "nqxpZHZfYIa5"
      }
    }
  ]
}